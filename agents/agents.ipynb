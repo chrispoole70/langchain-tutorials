{
  "nbformat": 4,
  "nbformat_minor": 0,
  "metadata": {
    "colab": {
      "provenance": [],
      "authorship_tag": "ABX9TyNDobovGlA1JZguzV+eKlaU",
      "include_colab_link": true
    },
    "kernelspec": {
      "name": "python3",
      "display_name": "Python 3"
    },
    "language_info": {
      "name": "python"
    }
  },
  "cells": [
    {
      "cell_type": "markdown",
      "metadata": {
        "id": "view-in-github",
        "colab_type": "text"
      },
      "source": [
        "<a href=\"https://colab.research.google.com/github/chrispoole70/langchain-tutorials/blob/main/agents/agents.ipynb\" target=\"_parent\"><img src=\"https://colab.research.google.com/assets/colab-badge.svg\" alt=\"Open In Colab\"/></a>"
      ]
    },
    {
      "cell_type": "markdown",
      "source": [
        "# This tutorial is called [Build an Agent](https://python.langchain.com/docs/tutorials/agents/)"
      ],
      "metadata": {
        "id": "RdhQ89w-2rnp"
      }
    },
    {
      "cell_type": "code",
      "execution_count": 2,
      "metadata": {
        "id": "OI8JV3XX2mW4"
      },
      "outputs": [],
      "source": [
        "%pip install -qU \"langchain[openai]\""
      ]
    },
    {
      "cell_type": "code",
      "source": [
        "%pip install -qU langchain-tavily"
      ],
      "metadata": {
        "id": "zc_6JmIS5hzN"
      },
      "execution_count": null,
      "outputs": []
    },
    {
      "cell_type": "code",
      "source": [
        "%pip install langgraph"
      ],
      "metadata": {
        "id": "h9WiSBXTF6dT"
      },
      "execution_count": null,
      "outputs": []
    },
    {
      "cell_type": "code",
      "source": [
        "import os\n",
        "from pprint import pprint\n",
        "\n",
        "from google.colab import userdata\n",
        "from langchain.chat_models import init_chat_model\n",
        "from langchain_tavily import TavilySearch\n",
        "from langchain_core.messages import HumanMessage\n",
        "from langgraph.checkpoint.memory import MemorySaver\n",
        "from langgraph.prebuilt import create_react_agent"
      ],
      "metadata": {
        "id": "a9Mso7Rl2soH"
      },
      "execution_count": 39,
      "outputs": []
    },
    {
      "cell_type": "code",
      "source": [
        "os.environ[\"TAVILY_API_KEY\"] = userdata.get('TAVILY_API_KEY')"
      ],
      "metadata": {
        "id": "aKk5kWvs3sd6"
      },
      "execution_count": 4,
      "outputs": []
    },
    {
      "cell_type": "code",
      "source": [
        "os.environ[\"OPENAI_API_KEY\"] = userdata.get('OPENAI_API_KEY')"
      ],
      "metadata": {
        "id": "YcibVpo-3xIA"
      },
      "execution_count": 5,
      "outputs": []
    },
    {
      "cell_type": "code",
      "source": [
        "chat_model = init_chat_model(model='gpt-4o-mini', model_provider='openai')"
      ],
      "metadata": {
        "id": "_ngA-rXK31MP"
      },
      "execution_count": 7,
      "outputs": []
    },
    {
      "cell_type": "markdown",
      "source": [
        "## Define Tools"
      ],
      "metadata": {
        "id": "sFgT4RlV472A"
      }
    },
    {
      "cell_type": "markdown",
      "source": [
        "We need to define the tools that we want the agent to use. We are going to use a search engine called [Tavily](https://python.langchain.com/docs/integrations/tools/tavily_search/) that was built specifically for agents to use."
      ],
      "metadata": {
        "id": "7ne0_rwj5AIM"
      }
    },
    {
      "cell_type": "code",
      "source": [
        "search = TavilySearch(max_results=2)"
      ],
      "metadata": {
        "id": "3WfLuxXP46hu"
      },
      "execution_count": 13,
      "outputs": []
    },
    {
      "cell_type": "code",
      "source": [
        "search_results = search.invoke('What is the weather in Stowe, Vermont?')"
      ],
      "metadata": {
        "id": "qpRGN39e8i7h"
      },
      "execution_count": 14,
      "outputs": []
    },
    {
      "cell_type": "code",
      "source": [
        "pprint(search_results)"
      ],
      "metadata": {
        "colab": {
          "base_uri": "https://localhost:8080/"
        },
        "id": "Q7cAo58p4U3A",
        "outputId": "e70d51f8-7acd-42f7-bcb5-812ef80b7e14"
      },
      "execution_count": 17,
      "outputs": [
        {
          "output_type": "stream",
          "name": "stdout",
          "text": [
            "{'answer': None,\n",
            " 'follow_up_questions': None,\n",
            " 'images': [],\n",
            " 'query': 'What is the weather in Stowe, Vermont?',\n",
            " 'response_time': 2.91,\n",
            " 'results': [{'content': \"{'location': {'name': 'Stowe', 'region': 'Vermont', \"\n",
            "                         \"'country': 'United States of America', 'lat': \"\n",
            "                         \"44.4653, 'lon': -72.685, 'tz_id': \"\n",
            "                         \"'America/New_York', 'localtime_epoch': 1747681726, \"\n",
            "                         \"'localtime': '2025-05-19 15:08'}, 'current': \"\n",
            "                         \"{'last_updated_epoch': 1747681200, 'last_updated': \"\n",
            "                         \"'2025-05-19 15:00', 'temp_c': 5.6, 'temp_f': 42.1, \"\n",
            "                         \"'is_day': 1, 'condition': {'text': 'Light rain', \"\n",
            "                         \"'icon': \"\n",
            "                         \"'//cdn.weatherapi.com/weather/64x64/day/296.png', \"\n",
            "                         \"'code': 1183}, 'wind_mph': 8.5, 'wind_kph': 13.7, \"\n",
            "                         \"'wind_degree': 304, 'wind_dir': 'NW', 'pressure_mb': \"\n",
            "                         \"1010.0, 'pressure_in': 29.82, 'precip_mm': 0.0, \"\n",
            "                         \"'precip_in': 0.0, 'humidity': 85, 'cloud': 100, \"\n",
            "                         \"'feelslike_c': 2.7, 'feelslike_f': 36.9, \"\n",
            "                         \"'windchill_c': -2.3, 'windchill_f': 27.9, \"\n",
            "                         \"'heatindex_c': 2.2, 'heatindex_f': 35.9, \"\n",
            "                         \"'dewpoint_c': 1.3, 'dewpoint_f': 34.3, 'vis_km': \"\n",
            "                         \"13.0, 'vis_miles': 8.0, 'uv': 0.5, 'gust_mph': 9.8, \"\n",
            "                         \"'gust_kph': 15.7}}\",\n",
            "              'raw_content': None,\n",
            "              'score': 0.8931823,\n",
            "              'title': 'Weather in Stowe, Vermont',\n",
            "              'url': 'https://www.weatherapi.com/'},\n",
            "             {'content': 'Full weather forecast for Vermont in May 2025. Check '\n",
            "                         'the temperatures, chance of rain and more in Vermont '\n",
            "                         'during May. ... 19. 27 ° / 14 ° 20. 28 ° / 17 ° 21 '\n",
            "                         '... Burlington Ludlow Montpelier Richmond Stowe. See '\n",
            "                         'more locations. More about the weather in Vermont.',\n",
            "              'raw_content': None,\n",
            "              'score': 0.87139857,\n",
            "              'title': 'Vermont weather in May 2025 | Vermont 14 day weather',\n",
            "              'url': 'https://www.weather25.com/north-america/usa/vermont?page=month&month=May'}]}\n"
          ]
        }
      ]
    },
    {
      "cell_type": "code",
      "source": [
        "tools = [search]"
      ],
      "metadata": {
        "id": "iCzPewcn8uXb"
      },
      "execution_count": 18,
      "outputs": []
    },
    {
      "cell_type": "code",
      "source": [
        "chat_model_with_tools = chat_model.bind_tools(tools=tools)"
      ],
      "metadata": {
        "id": "gkhpO8Eb9FvU"
      },
      "execution_count": 19,
      "outputs": []
    },
    {
      "cell_type": "code",
      "source": [
        "response = chat_model_with_tools.invoke(input=[HumanMessage(content='What is the weather in Stowe, Vermont?')])"
      ],
      "metadata": {
        "id": "3OV3Li9_9fRj"
      },
      "execution_count": 20,
      "outputs": []
    },
    {
      "cell_type": "markdown",
      "source": [
        "There's no generated response yet"
      ],
      "metadata": {
        "id": "ew6glEeOCUtl"
      }
    },
    {
      "cell_type": "code",
      "source": [
        "response.content"
      ],
      "metadata": {
        "colab": {
          "base_uri": "https://localhost:8080/",
          "height": 35
        },
        "id": "eRIPTz83CRqa",
        "outputId": "0d18f55e-a973-4f67-c4e6-79770839347e"
      },
      "execution_count": 25,
      "outputs": [
        {
          "output_type": "execute_result",
          "data": {
            "text/plain": [
              "''"
            ],
            "application/vnd.google.colaboratory.intrinsic+json": {
              "type": "string"
            }
          },
          "metadata": {},
          "execution_count": 25
        }
      ]
    },
    {
      "cell_type": "markdown",
      "source": [
        "But there is a tool call. However, this doesn't actually call the underlying function."
      ],
      "metadata": {
        "id": "Rc3zhyW7CbQ5"
      }
    },
    {
      "cell_type": "code",
      "source": [
        "response.tool_calls"
      ],
      "metadata": {
        "colab": {
          "base_uri": "https://localhost:8080/"
        },
        "id": "VfX5N-DJB4XO",
        "outputId": "3b590e36-2f5e-4713-ca7e-31a7c6d6c7de"
      },
      "execution_count": 23,
      "outputs": [
        {
          "output_type": "execute_result",
          "data": {
            "text/plain": [
              "[{'name': 'tavily_search',\n",
              "  'args': {'query': 'current weather Stowe Vermont', 'topic': 'general'},\n",
              "  'id': 'call_wKRcCk62zpu7IDm41zekQDXL',\n",
              "  'type': 'tool_call'}]"
            ]
          },
          "metadata": {},
          "execution_count": 23
        }
      ]
    },
    {
      "cell_type": "markdown",
      "source": [
        "To have the tool call the function, you can create a LangGraph agent."
      ],
      "metadata": {
        "id": "y3DzDj2pFmpA"
      }
    },
    {
      "cell_type": "markdown",
      "source": [
        "## Create the agent"
      ],
      "metadata": {
        "id": "Gfc85x-vGJJz"
      }
    },
    {
      "cell_type": "markdown",
      "source": [
        "You can use the chat model that isn't bound to the tools because that will happen when the agent gets created"
      ],
      "metadata": {
        "id": "qp5ZH-2sHHK3"
      }
    },
    {
      "cell_type": "code",
      "source": [
        "agent_executor = create_react_agent(model=chat_model, tools=tools)"
      ],
      "metadata": {
        "id": "gqYdjlObDKSl"
      },
      "execution_count": 29,
      "outputs": []
    },
    {
      "cell_type": "markdown",
      "source": [
        "## Run the agent"
      ],
      "metadata": {
        "id": "sPLatmiRHQn9"
      }
    },
    {
      "cell_type": "markdown",
      "source": [
        "Now when the agent is run, it will take action by calling the tool's underlying function"
      ],
      "metadata": {
        "id": "kNCT4FMSIPNq"
      }
    },
    {
      "cell_type": "code",
      "source": [
        "response = agent_executor.invoke(\n",
        "    input={'messages': [HumanMessage(content='What is the weather in Stowe, Vermont?')]}\n",
        ")"
      ],
      "metadata": {
        "id": "W5ZSRXLfHNel"
      },
      "execution_count": 30,
      "outputs": []
    },
    {
      "cell_type": "code",
      "source": [
        "[message.pretty_print() for message in response['messages']]"
      ],
      "metadata": {
        "colab": {
          "base_uri": "https://localhost:8080/"
        },
        "id": "l-Le0j39HoWp",
        "outputId": "babd643e-8608-462f-c9f9-6731e30ec303"
      },
      "execution_count": 35,
      "outputs": [
        {
          "output_type": "stream",
          "name": "stdout",
          "text": [
            "================================\u001b[1m Human Message \u001b[0m=================================\n",
            "\n",
            "What is the weather in Stowe, Vermont?\n",
            "==================================\u001b[1m Ai Message \u001b[0m==================================\n",
            "Tool Calls:\n",
            "  tavily_search (call_SbPBGY7koOCDWdUomE31GQr7)\n",
            " Call ID: call_SbPBGY7koOCDWdUomE31GQr7\n",
            "  Args:\n",
            "    query: current weather in Stowe Vermont\n",
            "    topic: general\n",
            "=================================\u001b[1m Tool Message \u001b[0m=================================\n",
            "Name: tavily_search\n",
            "\n",
            "{\"query\": \"current weather in Stowe Vermont\", \"follow_up_questions\": null, \"answer\": null, \"images\": [], \"results\": [{\"title\": \"Weather in Stowe, Vermont\", \"url\": \"https://www.weatherapi.com/\", \"content\": \"{'location': {'name': 'Stowe', 'region': 'Vermont', 'country': 'United States of America', 'lat': 44.4653, 'lon': -72.685, 'tz_id': 'America/New_York', 'localtime_epoch': 1747684593, 'localtime': '2025-05-19 15:56'}, 'current': {'last_updated_epoch': 1747683900, 'last_updated': '2025-05-19 15:45', 'temp_c': 8.9, 'temp_f': 48.0, 'is_day': 1, 'condition': {'text': 'Overcast', 'icon': '//cdn.weatherapi.com/weather/64x64/day/122.png', 'code': 1009}, 'wind_mph': 8.5, 'wind_kph': 13.7, 'wind_degree': 304, 'wind_dir': 'NW', 'pressure_mb': 1010.0, 'pressure_in': 29.81, 'precip_mm': 0.0, 'precip_in': 0.0, 'humidity': 77, 'cloud': 100, 'feelslike_c': 6.7, 'feelslike_f': 44.1, 'windchill_c': -2.3, 'windchill_f': 27.9, 'heatindex_c': 2.2, 'heatindex_f': 35.9, 'dewpoint_c': 1.3, 'dewpoint_f': 34.3, 'vis_km': 16.0, 'vis_miles': 9.0, 'uv': 0.5, 'gust_mph': 9.8, 'gust_kph': 15.7}}\", \"score\": 0.9888346, \"raw_content\": null}, {\"title\": \"Vermont weather in May 2025 | Vermont 14 day weather\", \"url\": \"https://www.weather25.com/north-america/usa/vermont?page=month&month=May\", \"content\": \"Full weather forecast for Vermont in May 2025. Check the temperatures, chance of rain and more in Vermont during May. ... 19. 27 ° / 14 ° 20. 28 ° / 17 ° 21 ... Burlington Ludlow Montpelier Richmond Stowe. See more locations. More about the weather in Vermont.\", \"score\": 0.8190992, \"raw_content\": null}], \"response_time\": 3.11}\n",
            "==================================\u001b[1m Ai Message \u001b[0m==================================\n",
            "\n",
            "The current weather in Stowe, Vermont is as follows:\n",
            "\n",
            "- **Temperature:** 8.9°C (48.0°F)\n",
            "- **Condition:** Overcast\n",
            "- **Wind:** 8.5 mph (13.7 kph) from the northwest\n",
            "- **Humidity:** 77%\n",
            "- **Visibility:** 16 km (9 miles)\n",
            "\n",
            "For more detailed weather updates, you can visit [Weather API](https://www.weatherapi.com/).\n"
          ]
        },
        {
          "output_type": "execute_result",
          "data": {
            "text/plain": [
              "[None, None, None, None]"
            ]
          },
          "metadata": {},
          "execution_count": 35
        }
      ]
    },
    {
      "cell_type": "markdown",
      "source": [
        "## Streaming Messages"
      ],
      "metadata": {
        "id": "rgNR9kmKJPy1"
      }
    },
    {
      "cell_type": "markdown",
      "source": [
        "Streaming each response message is a better UX especially if it can take awhile for the agent to run. Notice that the `stream_mode` is \"values\" which means emit the value after each step in the agent graph."
      ],
      "metadata": {
        "id": "aU0ixVmDJUhE"
      }
    },
    {
      "cell_type": "code",
      "source": [
        "for step in agent_executor.stream(\n",
        "    input={'messages': [HumanMessage(content='What is the weather in Stowe, Vermont?')]},\n",
        "    stream_mode='values'\n",
        "):\n",
        "  step['messages'][-1].pretty_print()"
      ],
      "metadata": {
        "colab": {
          "base_uri": "https://localhost:8080/"
        },
        "id": "lkCc5mWLHtgw",
        "outputId": "53654a85-93a0-4889-f399-8cb2409a8fca"
      },
      "execution_count": 36,
      "outputs": [
        {
          "output_type": "stream",
          "name": "stdout",
          "text": [
            "================================\u001b[1m Human Message \u001b[0m=================================\n",
            "\n",
            "What is the weather in Stowe, Vermont?\n",
            "==================================\u001b[1m Ai Message \u001b[0m==================================\n",
            "Tool Calls:\n",
            "  tavily_search (call_BYqiSFu6FPxqB6AqsGx3SFEg)\n",
            " Call ID: call_BYqiSFu6FPxqB6AqsGx3SFEg\n",
            "  Args:\n",
            "    query: current weather in Stowe, Vermont\n",
            "    topic: general\n",
            "=================================\u001b[1m Tool Message \u001b[0m=================================\n",
            "Name: tavily_search\n",
            "\n",
            "{\"query\": \"current weather in Stowe, Vermont\", \"follow_up_questions\": null, \"answer\": null, \"images\": [], \"results\": [{\"title\": \"Weather in Stowe, Vermont\", \"url\": \"https://www.weatherapi.com/\", \"content\": \"{'location': {'name': 'Stowe', 'region': 'Vermont', 'country': 'United States of America', 'lat': 44.4653, 'lon': -72.685, 'tz_id': 'America/New_York', 'localtime_epoch': 1747685334, 'localtime': '2025-05-19 16:08'}, 'current': {'last_updated_epoch': 1747684800, 'last_updated': '2025-05-19 16:00', 'temp_c': 8.9, 'temp_f': 48.0, 'is_day': 1, 'condition': {'text': 'Overcast', 'icon': '//cdn.weatherapi.com/weather/64x64/day/122.png', 'code': 1009}, 'wind_mph': 7.6, 'wind_kph': 12.2, 'wind_degree': 309, 'wind_dir': 'NW', 'pressure_mb': 1010.0, 'pressure_in': 29.81, 'precip_mm': 0.0, 'precip_in': 0.0, 'humidity': 77, 'cloud': 100, 'feelslike_c': 6.9, 'feelslike_f': 44.5, 'windchill_c': -2.4, 'windchill_f': 27.6, 'heatindex_c': 2.0, 'heatindex_f': 35.7, 'dewpoint_c': 1.3, 'dewpoint_f': 34.3, 'vis_km': 16.0, 'vis_miles': 9.0, 'uv': 0.4, 'gust_mph': 8.7, 'gust_kph': 14.1}}\", \"score\": 0.955219, \"raw_content\": null}, {\"title\": \"May weather - Spring 2025 - Stowe, VT\", \"url\": \"https://www.weather-atlas.com/en/vermont-usa/stowe-weather-may\", \"content\": \"May weather for Stowe, Vermont: On the last day of the month, in Stowe, Vermont, sunrise is at 5:09 am and sunset at 8:27 pm EDT. In Stowe, Vermont, during the entire year, the rain falls for 128.5 days and collects up to 13.74\\\" (349mm) of precipitation.\", \"score\": 0.7574541, \"raw_content\": null}], \"response_time\": 2.98}\n",
            "==================================\u001b[1m Ai Message \u001b[0m==================================\n",
            "\n",
            "The current weather in Stowe, Vermont is as follows:\n",
            "\n",
            "- **Temperature:** 8.9°C (48.0°F)\n",
            "- **Condition:** Overcast\n",
            "- **Wind:** Northwest at 7.6 mph (12.2 kph)\n",
            "- **Humidity:** 77%\n",
            "- **Cloud Cover:** 100%\n",
            "- **Feels Like:** 6.9°C (44.5°F)\n",
            "\n",
            "For more detailed weather information, you can check [Weather API](https://www.weatherapi.com/).\n"
          ]
        }
      ]
    },
    {
      "cell_type": "markdown",
      "source": [
        "Or you can emit each message token-by-token"
      ],
      "metadata": {
        "id": "7-FV_qeQNXph"
      }
    },
    {
      "cell_type": "code",
      "source": [
        "for step, metadata in agent_executor.stream(\n",
        "    input={'messages': [HumanMessage(content='What is the weather in Stowe, Vermont?')]},\n",
        "    stream_mode='messages'\n",
        "):\n",
        "  if metadata[\"langgraph_node\"] == \"agent\" and (text := step.text()):\n",
        "      print(text, end=\"|\")"
      ],
      "metadata": {
        "colab": {
          "base_uri": "https://localhost:8080/"
        },
        "id": "BYJOE9OnKO6j",
        "outputId": "1d9c7e8a-748a-4e5c-fd72-f8c1545650c7"
      },
      "execution_count": 38,
      "outputs": [
        {
          "output_type": "stream",
          "name": "stdout",
          "text": [
            "The| current| weather| in| St|owe|,| Vermont| is| as| follows|:\n",
            "\n",
            "|-| **|Temperature|**|:| |8|.|9|°C| (|48|°F|)\n",
            "|-| **|Condition|**|:| Over|cast|\n",
            "|-| **|Wind| Speed|**|:| |7|.|6| mph| (|12|.|2| k|ph|)| from| the| northwest|\n",
            "|-| **|Humidity|**|:| |77|%\n",
            "|-| **|Visibility|**|:| |16| km| (|9| miles|)\n",
            "|-| **|Feels| Like|**|:| |6|.|9|°C| (|44|.|5|°F|)\n",
            "\n",
            "|You| can| find| more| information| on| the| weather| [|here|](|https|://|www|.weather|api|.com|/|).|"
          ]
        }
      ]
    },
    {
      "cell_type": "markdown",
      "source": [
        "## Adding in Memory"
      ],
      "metadata": {
        "id": "ktSW0SGJN-il"
      }
    },
    {
      "cell_type": "markdown",
      "source": [
        "By default, a LangGraph agent is stateless. To add state to it, you have to add a checkpointer so that the conversation history can be preserved."
      ],
      "metadata": {
        "id": "YkHYCjYxOKwv"
      }
    },
    {
      "cell_type": "code",
      "source": [
        "memory = MemorySaver()"
      ],
      "metadata": {
        "id": "HForKMcQNuHn"
      },
      "execution_count": 40,
      "outputs": []
    },
    {
      "cell_type": "code",
      "source": [
        "agent_executor = create_react_agent(model=chat_model, tools=tools, checkpointer=memory)"
      ],
      "metadata": {
        "id": "__zYsDCQOmYa"
      },
      "execution_count": 41,
      "outputs": []
    },
    {
      "cell_type": "markdown",
      "source": [
        "Don't forget to pass a config to the model that specifies which conversation to use"
      ],
      "metadata": {
        "id": "q27UQpYcO7j7"
      }
    },
    {
      "cell_type": "code",
      "source": [
        "config = {\"configurable\": {\"thread_id\": \"abc123\"}}"
      ],
      "metadata": {
        "id": "whcvaXXTOrY_"
      },
      "execution_count": 42,
      "outputs": []
    },
    {
      "cell_type": "code",
      "source": [
        "for chunk in agent_executor.stream(\n",
        "    {\"messages\": [HumanMessage(content=\"hi im bob!\")]}, config\n",
        "):\n",
        "    print(chunk)\n",
        "    print(\"----\")"
      ],
      "metadata": {
        "colab": {
          "base_uri": "https://localhost:8080/"
        },
        "id": "U88ftjNXPAzn",
        "outputId": "b8480d05-fed1-464a-cd3a-88c8f2520d83"
      },
      "execution_count": 43,
      "outputs": [
        {
          "output_type": "stream",
          "name": "stdout",
          "text": [
            "{'agent': {'messages': [AIMessage(content='Hi Bob! How can I assist you today?', additional_kwargs={'refusal': None}, response_metadata={'token_usage': {'completion_tokens': 11, 'prompt_tokens': 771, 'total_tokens': 782, 'completion_tokens_details': {'accepted_prediction_tokens': 0, 'audio_tokens': 0, 'reasoning_tokens': 0, 'rejected_prediction_tokens': 0}, 'prompt_tokens_details': {'audio_tokens': 0, 'cached_tokens': 0}}, 'model_name': 'gpt-4o-mini-2024-07-18', 'system_fingerprint': 'fp_129a36352a', 'id': 'chatcmpl-BZ1OwdEk3UYG3b8CLihuxEv2QjvJf', 'service_tier': 'default', 'finish_reason': 'stop', 'logprobs': None}, id='run--156d071c-dffc-472c-b7d6-da2efdf35ce5-0', usage_metadata={'input_tokens': 771, 'output_tokens': 11, 'total_tokens': 782, 'input_token_details': {'audio': 0, 'cache_read': 0}, 'output_token_details': {'audio': 0, 'reasoning': 0}})]}}\n",
            "----\n"
          ]
        }
      ]
    },
    {
      "cell_type": "code",
      "source": [
        "for chunk in agent_executor.stream(\n",
        "    {\"messages\": [HumanMessage(content=\"whats my name?\")]}, config\n",
        "):\n",
        "    print(chunk)\n",
        "    print(\"----\")"
      ],
      "metadata": {
        "colab": {
          "base_uri": "https://localhost:8080/"
        },
        "id": "JCWiruaGPKd9",
        "outputId": "1f533e5f-22e8-48c8-f47d-574848fa78a9"
      },
      "execution_count": 44,
      "outputs": [
        {
          "output_type": "stream",
          "name": "stdout",
          "text": [
            "{'agent': {'messages': [AIMessage(content='Your name is Bob!', additional_kwargs={'refusal': None}, response_metadata={'token_usage': {'completion_tokens': 6, 'prompt_tokens': 794, 'total_tokens': 800, 'completion_tokens_details': {'accepted_prediction_tokens': 0, 'audio_tokens': 0, 'reasoning_tokens': 0, 'rejected_prediction_tokens': 0}, 'prompt_tokens_details': {'audio_tokens': 0, 'cached_tokens': 0}}, 'model_name': 'gpt-4o-mini-2024-07-18', 'system_fingerprint': 'fp_0392822090', 'id': 'chatcmpl-BZ1PATYaHK4TwAW4NO5cxS5dhQs6i', 'service_tier': 'default', 'finish_reason': 'stop', 'logprobs': None}, id='run--93d459b8-f78b-4cb5-a78d-049607c7ba52-0', usage_metadata={'input_tokens': 794, 'output_tokens': 6, 'total_tokens': 800, 'input_token_details': {'audio': 0, 'cache_read': 0}, 'output_token_details': {'audio': 0, 'reasoning': 0}})]}}\n",
            "----\n"
          ]
        }
      ]
    },
    {
      "cell_type": "code",
      "source": [],
      "metadata": {
        "id": "4WlpRil-PN45"
      },
      "execution_count": null,
      "outputs": []
    }
  ]
}